{
 "cells": [
  {
   "cell_type": "markdown",
   "metadata": {},
   "source": [
    "## **Exercise 1** \n",
    "\n",
    "Create functions that implement R^2, RMSE, and MAE in python."
   ]
  },
  {
   "cell_type": "markdown",
   "metadata": {},
   "source": [
    "**Solution**"
   ]
  },
  {
   "cell_type": "code",
   "execution_count": 34,
   "metadata": {},
   "outputs": [
    {
     "name": "stdout",
     "output_type": "stream",
     "text": [
      "R² Score: 0.9486\n",
      "rmse Score: 0.6124\n",
      "MAE: 0.5000\n"
     ]
    }
   ],
   "source": [
    "# Sample data\n",
    "y_true = np.array([3, -0.5, 2, 7])\n",
    "y_pred = np.array([2.5, 0.0, 2, 8])\n",
    "\n",
    "\n",
    "import numpy as np\n",
    "\n",
    "def r2_score(y_true, y_pred):\n",
    "    ssr = np.sum((y_true - y_pred) ** 2)\n",
    "    sst = np.sum((y_true - np.mean(y_true)) ** 2)\n",
    "    return 1 - (ssr / sst)\n",
    "\n",
    "def rmse(y_true, y_pred):\n",
    "    return np.sqrt(np.mean((y_true - y_pred) ** 2))\n",
    "\n",
    "def mae(y_true, y_pred):\n",
    "    return np.mean(np.abs(y_true - y_pred))\n",
    "\n",
    "\n",
    "# RESULTS SHOULD BE\n",
    "# R² Score: 0.9486\n",
    "# rmse Score: 0.6124\n",
    "# MAE: 0.5000\n",
    "\n",
    "\n",
    "print(f\"R² Score: {r2_score(y_true, y_pred):.4f}\")\n",
    "print(f\"rmse Score: {rmse(y_true, y_pred):.4f}\")\n",
    "print(f\"MAE: {mae(y_true, y_pred):.4f}\")\n"
   ]
  },
  {
   "cell_type": "markdown",
   "metadata": {},
   "source": [
    "## **Exercise 2**\n",
    "\n",
    "In this exercise, you will work with a dataset containing information about houses.  \n",
    "Your task is to predict the house price based on various features, including some that require preprocessing. You will try different combinations of pre-processing steps and compare the results.\n",
    "\n",
    "Dataset features:\n",
    "1. 'area': House area in square feet (numeric)\n",
    "2. 'bedrooms': Number of bedrooms (numeric)\n",
    "3. 'age': Age of the house in years (numeric)\n",
    "4. 'neighborhood': Categorical feature with missing values (categorical)\n",
    "5. 'distance_to_city_center': Distance to city center in miles (exponential feature)\n",
    "\n",
    "Target variable:\n",
    "- 'price': House price in thousands of dollars\n",
    "\n",
    "Tasks:\n",
    "1. Load and explore the dataset\n",
    "2. Preprocess the data:\n",
    "   - Handle missing values in 'neighborhood'\n",
    "   - Encode 'neighborhood' using both OrdinalEncoder and OneHotEncoder\n",
    "   - Create a log-scaled version of 'distance_to_city_center'\n",
    "3. Create four different analyses\n",
    "   - No log scaling, OrdinalEncoder\n",
    "   - No log scaling, OneHotEncoder\n",
    "   - With log scaling, OrdinalEncoder\n",
    "   - With log scaling, OneHotEncoder\n",
    "4. Use a `CrossValidator` and pass in a custom scorer (using `make_scorer`) that uses the routines defined in exercise 1.\n",
    "5. Compare the results.  Which performs best?"
   ]
  },
  {
   "cell_type": "code",
   "execution_count": 14,
   "metadata": {},
   "outputs": [],
   "source": [
    "import numpy as np\n",
    "import pandas as pd\n",
    "\n",
    "# Generate synthetic data\n",
    "np.random.seed(42)\n",
    "n_samples = 1000\n",
    "\n",
    "area = np.random.uniform(1000, 5000, n_samples)\n",
    "bedrooms = np.random.randint(1, 6, n_samples)\n",
    "age = np.random.uniform(1, 50, n_samples)\n",
    "neighborhood = np.random.choice(['A', 'B', 'C', 'D', 'E'], n_samples)\n",
    "distance_to_city_center = np.random.exponential(scale=5, size=n_samples)\n",
    "\n",
    "# Introduce missing values in neighborhood\n",
    "neighborhood[np.random.choice(n_samples, 100, replace=False)] = np.nan\n",
    "\n",
    "# Create target variable with log-scaled distance and neighborhood effect\n",
    "price = (\n",
    "    10 * np.log(area) +\n",
    "    5 * bedrooms -\n",
    "    2 * age +\n",
    "    np.where(neighborhood == 'A', 50, 0) +\n",
    "    np.where(neighborhood == 'C', 30, 0) +\n",
    "    np.where(neighborhood == 'E', 10, 0) +\n",
    "    np.where(neighborhood == 'D', -20, 0) +\n",
    "    np.where(neighborhood == 'B', -40, 0) -\n",
    "    20 * np.log(distance_to_city_center + 1) +\n",
    "    np.random.normal(0, 10, n_samples)\n",
    ")\n",
    "\n",
    "# Create DataFrame\n",
    "df = pd.DataFrame({\n",
    "    'area': area,\n",
    "    'bedrooms': bedrooms,\n",
    "    'age': age,\n",
    "    'neighborhood': neighborhood,\n",
    "    'distance_to_city_center': distance_to_city_center,\n",
    "    'price_10K': price\n",
    "})\n"
   ]
  },
  {
   "cell_type": "code",
   "execution_count": null,
   "metadata": {},
   "outputs": [],
   "source": [
    "df"
   ]
  },
  {
   "cell_type": "markdown",
   "metadata": {},
   "source": [
    "**Solution**"
   ]
  },
  {
   "cell_type": "code",
   "execution_count": null,
   "metadata": {},
   "outputs": [],
   "source": [
    "from sklearn.metrics import make_scorer\n",
    "from sklearn.model_selection import cross_validate\n",
    "from sklearn.pipeline import Pipeline\n",
    "from sklearn.compose import ColumnTransformer\n",
    "from sklearn.linear_model import LinearRegression\n",
    "from sklearn.preprocessing import OrdinalEncoder, OneHotEncoder\n",
    "from sklearn.impute import SimpleImputer\n",
    "\n",
    "\n",
    "\n",
    "X = df.drop('price_10K', axis=1)\n",
    "y = df['price_10K']\n",
    "from sklearn.preprocessing import FunctionTransformer\n",
    "import numpy as np\n",
    "\n",
    "# Define preprocessing pipelines\n",
    "def test(X,y, encoder='ordinal'):\n",
    "    numeric_features = ['area', 'bedrooms', 'age','distance_to_city_center']\n",
    "    \n",
    "    numeric_transformer = SimpleImputer(strategy='median')\n",
    "    \n",
    "    categorical_transformer = Pipeline(steps=[\n",
    "        ('imputer', SimpleImputer(strategy='constant', fill_value='missing')),\n",
    "        ('encoder', OrdinalEncoder() if encoder == 'ordinal' else OneHotEncoder(drop='first', sparse_output=False))\n",
    "    ])\n",
    "    \n",
    "    preprocessor = ColumnTransformer(\n",
    "        transformers=[\n",
    "            ('num', numeric_transformer, numeric_features),\n",
    "            ('cat', categorical_transformer, ['neighborhood'])\n",
    "        ])\n",
    "    \n",
    "    scoring = {\n",
    "        'R2': make_scorer(lambda y, y_pred: r2_score(y, y_pred)),\n",
    "        'RMSE': make_scorer(lambda y, y_pred: rmse(y, y_pred)),\n",
    "        'MAE': make_scorer(lambda y, y_pred: mae(y, y_pred))\n",
    "    }\n",
    "    \n",
    "    pipeline = Pipeline(steps=[('preprocessor', preprocessor),\n",
    "                           ('regressor', LinearRegression())])\n",
    "\n",
    "    scores = cross_validate(pipeline, X, y, cv=5, scoring=scoring)\n",
    "    for key, values in scores.items():\n",
    "        print(f\"{key}: {values.mean():.3f} (+/- {values.std() * 2:.3f})\")\n",
    "    \n",
    "\n",
    "# Create and evaluate models\n",
    "results = {}\n",
    "\n",
    "for log_scale in [False, True]:\n",
    "    for encoder in ['ordinal', 'onehot']:\n",
    "        # Prepare the data\n",
    "        X_train = X.copy()\n",
    "        \n",
    "        if log_scale:\n",
    "            X_train['distance_to_city_center'] = np.log1p(X_train[['distance_to_city_center']])\n",
    "            \n",
    "        # Create and fit the model\n",
    "        print(f\"{'Log' if log_scale else 'No Log'} - {encoder.capitalize()}\")\n",
    "        test(X_train,y,encoder)\n",
    "        "
   ]
  }
 ],
 "metadata": {
  "kernelspec": {
   "display_name": ".venv",
   "language": "python",
   "name": "python3"
  },
  "language_info": {
   "codemirror_mode": {
    "name": "ipython",
    "version": 3
   },
   "file_extension": ".py",
   "mimetype": "text/x-python",
   "name": "python",
   "nbconvert_exporter": "python",
   "pygments_lexer": "ipython3",
   "version": "3.12.4"
  }
 },
 "nbformat": 4,
 "nbformat_minor": 2
}
