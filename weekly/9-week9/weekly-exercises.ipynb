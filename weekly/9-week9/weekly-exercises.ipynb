{
 "cells": [
  {
   "cell_type": "markdown",
   "metadata": {},
   "source": [
    "# Cross-Validation Exercises with scikit-learn\n",
    "\n",
    "In these exercises, you'll practice using different cross-validation techniques in scikit-learn. We'll be working with the iris dataset and a logistic regression model.\n",
    "\n",
    "First, let's import the necessary libraries and set up our data and pipeline:\n"
   ]
  },
  {
   "cell_type": "code",
   "execution_count": 1,
   "metadata": {},
   "outputs": [],
   "source": [
    "\n",
    "import numpy as np\n",
    "from sklearn.datasets import load_iris\n",
    "from sklearn.model_selection import train_test_split, cross_val_score, cross_validate\n",
    "from sklearn.pipeline import make_pipeline\n",
    "from sklearn.preprocessing import StandardScaler\n",
    "from sklearn.linear_model import LogisticRegression\n",
    "from sklearn.metrics import f1_score, make_scorer\n",
    "\n",
    "# Load the iris dataset\n",
    "iris = load_iris()\n",
    "X, y = iris.data, iris.target\n",
    "\n",
    "# Create a pipeline\n",
    "pipeline = make_pipeline(\n",
    "    StandardScaler(),\n",
    "    LogisticRegression(random_state=42)\n",
    ")"
   ]
  },
  {
   "cell_type": "markdown",
   "metadata": {},
   "source": [
    "\n",
    "## Exercise 1: Evaluate F1-score on a Single Train-Test Split\n",
    "\n",
    "Use `train_test_split` to create training and testing sets, then fit the pipeline on the training data and evaluate the F1-score on the test data.\n"
   ]
  },
  {
   "cell_type": "code",
   "execution_count": 2,
   "metadata": {},
   "outputs": [
    {
     "name": "stdout",
     "output_type": "stream",
     "text": [
      "F1-score on test set: 1.000\n"
     ]
    }
   ],
   "source": [
    "# Split the data\n",
    "X_train, X_test, y_train, y_test = train_test_split(X, y, test_size=0.2, random_state=42)\n",
    "\n",
    "# Fit the pipeline and make predictions\n",
    "pipeline.fit(X_train, y_train)\n",
    "y_pred = pipeline.predict(X_test)\n",
    "\n",
    "# Calculate F1-score\n",
    "f1 = f1_score(y_test, y_pred, average='macro')\n",
    "print(f\"F1-score on test set: {f1:.3f}\")\n"
   ]
  },
  {
   "cell_type": "markdown",
   "metadata": {},
   "source": [
    "\n",
    "## Exercise 2: Use cross_val_score for F1-score with Different Numbers of Folds\n",
    "\n",
    "Use `cross_val_score` to compute the F1-score using different numbers of folds (e.g., 3, 5, and 10). Compare the results.\n"
   ]
  },
  {
   "cell_type": "code",
   "execution_count": 3,
   "metadata": {},
   "outputs": [
    {
     "name": "stdout",
     "output_type": "stream",
     "text": [
      "\n",
      "Results for 3-fold cross-validation:\n",
      "Individual fold scores: [0.9797235  0.95925926 0.96078431]\n",
      "Mean F1-score: 0.967 (+/- 0.019)\n",
      "\n",
      "Results for 5-fold cross-validation:\n",
      "Individual fold scores: [0.96658312 1.         0.93265993 0.89974937 1.        ]\n",
      "Mean F1-score: 0.960 (+/- 0.078)\n",
      "\n",
      "Results for 10-fold cross-validation:\n",
      "Individual fold scores: [1.         0.93265993 1.         1.         0.93265993 0.93265993\n",
      " 0.7979798  1.         1.         1.        ]\n",
      "Mean F1-score: 0.960 (+/- 0.123)\n"
     ]
    }
   ],
   "source": [
    "\n",
    "# Test different numbers of folds\n",
    "fold_numbers = [3, 5, 10]\n",
    "\n",
    "for n_folds in fold_numbers:\n",
    "    scores = cross_val_score(\n",
    "        pipeline, \n",
    "        X, \n",
    "        y, \n",
    "        cv=n_folds, \n",
    "        scoring='f1_macro'\n",
    "    )\n",
    "    \n",
    "    print(f\"\\nResults for {n_folds}-fold cross-validation:\")\n",
    "    print(f\"Individual fold scores: {scores}\")\n",
    "    print(f\"Mean F1-score: {scores.mean():.3f} (+/- {scores.std() * 2:.3f})\")\n",
    "\n"
   ]
  },
  {
   "cell_type": "markdown",
   "metadata": {},
   "source": [
    "\n",
    "## Exercise 3: Use cross_validate with a Custom Scorer\n",
    "\n",
    "Create a custom scorer that calculates the F1-score for each class separately, then use `cross_validate` with this scorer.\n"
   ]
  },
  {
   "cell_type": "code",
   "execution_count": 4,
   "metadata": {},
   "outputs": [
    {
     "name": "stdout",
     "output_type": "stream",
     "text": [
      "\n",
      "Results for 3-fold cross-validation:\n",
      "Individual fold scores: [0.9797235  0.95925926 0.96078431]\n",
      "Mean F1-score: 0.967 (+/- 0.019)\n",
      "\n",
      "Results for 5-fold cross-validation:\n",
      "Individual fold scores: [0.96658312 1.         0.93265993 0.89974937 1.        ]\n",
      "Mean F1-score: 0.960 (+/- 0.078)\n",
      "\n",
      "Results for 10-fold cross-validation:\n",
      "Individual fold scores: [1.         0.93265993 1.         1.         0.93265993 0.93265993\n",
      " 0.7979798  1.         1.         1.        ]\n",
      "Mean F1-score: 0.960 (+/- 0.123)\n"
     ]
    }
   ],
   "source": [
    "\n",
    "# Test different numbers of folds\n",
    "fold_numbers = [3, 5, 10]\n",
    "\n",
    "for n_folds in fold_numbers:\n",
    "    scores = cross_val_score(\n",
    "        pipeline, \n",
    "        X, \n",
    "        y, \n",
    "        cv=n_folds, \n",
    "        scoring='f1_macro'\n",
    "    )\n",
    "    \n",
    "    print(f\"\\nResults for {n_folds}-fold cross-validation:\")\n",
    "    print(f\"Individual fold scores: {scores}\")\n",
    "    print(f\"Mean F1-score: {scores.mean():.3f} (+/- {scores.std() * 2:.3f})\")\n"
   ]
  }
 ],
 "metadata": {
  "kernelspec": {
   "display_name": ".venv",
   "language": "python",
   "name": "python3"
  },
  "language_info": {
   "codemirror_mode": {
    "name": "ipython",
    "version": 3
   },
   "file_extension": ".py",
   "mimetype": "text/x-python",
   "name": "python",
   "nbconvert_exporter": "python",
   "pygments_lexer": "ipython3",
   "version": "3.12.4"
  }
 },
 "nbformat": 4,
 "nbformat_minor": 2
}
