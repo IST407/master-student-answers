{
 "cells": [
  {
   "cell_type": "markdown",
   "metadata": {},
   "source": [
    "##  Data Generation routine"
   ]
  },
  {
   "cell_type": "code",
   "execution_count": 119,
   "metadata": {},
   "outputs": [],
   "source": [
    "import pandas as pd\n",
    "import numpy as np\n",
    "from sklearn.utils import shuffle\n",
    "\n",
    "# Set seed for reproducibility\n",
    "np.random.seed(42)\n",
    "\n",
    "# Number of samples\n",
    "n = 2250\n",
    "\n",
    "# Define US States\n",
    "us_states = [\"CA\", \"TX\", \"FL\", \"NY\", \"PA\", \"IL\", \"OH\", \"GA\", \"NC\", \"MI\"]\n",
    "\n",
    "# Define exercise frequency and diet quality categories (ordered)\n",
    "exercise_categories = [\"Never\", \"Rarely\", \"Occasionally\", \"Regularly\", \"Frequently\"]\n",
    "diet_categories = [\"Very Poor\", \"Poor\", \"Average\", \"Good\", \"Excellent\"]\n",
    "\n",
    "# Initialize DataFrame\n",
    "data = {\n",
    "    'gender': np.random.choice(['Male', 'Female'], n),\n",
    "    'age': np.random.randint(18, 81, n),\n",
    "    'bmi': np.random.lognormal(mean=3.1, sigma=0.2, size=n),  # Log-normal BMI distribution\n",
    "    'systolic_bp': np.random.normal(120, 20, n),\n",
    "    'diastolic_bp': np.random.normal(80, 10, n),\n",
    "    'exercise_frequency': np.random.choice(exercise_categories, n),\n",
    "    'smoker': np.random.choice([0, 1], n),\n",
    "    'family_history': np.random.choice([0, 1], n),\n",
    "    'diet_quality': np.random.choice(diet_categories, n),\n",
    "    'us_state': np.random.choice(us_states, n),\n",
    "    'shoe_size': np.random.normal(9, 1.5, n)  # Normal distribution for shoe size\n",
    "}\n",
    "\n",
    "# Create a mildly non-linear cholesterol level\n",
    "data['cholesterol_level'] = 150 + 2 * data['age'] + np.random.normal(0, 30, n)\n",
    "\n",
    "df = pd.DataFrame(data)\n",
    "\n",
    "def calc_risk(row):\n",
    "    risk = 0\n",
    "    risk += 0.03 * (row['age'] - 50)  # Linear age effect\n",
    "    risk += 0.1 * np.log(row['bmi'])  # Mild non-linear BMI effect\n",
    "    risk += 0.01 * (row['systolic_bp'] - 120)\n",
    "    risk += 0.02 * (row['diastolic_bp'] - 80)\n",
    "    risk += 0.002 * (row['cholesterol_level'] - 200)\n",
    "    risk += 0.5 * row['smoker']\n",
    "    risk += 0.3 * row['family_history']\n",
    "    risk -= 0.1 * exercise_categories.index(row['exercise_frequency'])  # Linear effect of exercise\n",
    "    risk -= 0.1 * diet_categories.index(row['diet_quality'])  # Linear effect of diet\n",
    "    \n",
    "    # Subtle interaction between age and BMI\n",
    "    risk += 0.001 * (row['age'] - 50) * (row['bmi'] - 25)\n",
    "    \n",
    "    return risk\n",
    "\n",
    "df['risk'] = df.apply(calc_risk, axis=1)\n",
    "\n",
    "def assign_disease(risk, noise_level=0.3, base_rate=0.4):\n",
    "    normalized_risk = (risk - risk.min()) / (risk.max() - risk.min())\n",
    "    noisy_risk = normalized_risk + np.random.normal(0, noise_level, len(risk))\n",
    "    prob_disease = base_rate + (1 - base_rate) * noisy_risk\n",
    "    prob_disease = np.clip(prob_disease, 0, 1)\n",
    "    return np.random.binomial(1, prob_disease)\n",
    "\n",
    "# Control parameters\n",
    "noise_level = 0.3\n",
    "base_rate = 0.4\n",
    "\n",
    "# Assign disease status\n",
    "df['has_disease'] = assign_disease(df['risk'], noise_level, base_rate)\n",
    "\n",
    "# Add mild noise to continuous variables\n",
    "columns_to_noisify = ['systolic_bp', 'bmi', 'cholesterol_level', 'diastolic_bp']\n",
    "for col in columns_to_noisify:\n",
    "    df[col] = df[col] * np.random.uniform(0.95, 1.05, n)\n",
    "\n",
    "# Introduce missing values\n",
    "missing_fraction = 0.1\n",
    "for col in ['bmi', 'systolic_bp', 'diastolic_bp', 'cholesterol_level', 'smoker', 'family_history', 'diet_quality', 'exercise_frequency']:\n",
    "    df.loc[df.sample(frac=missing_fraction).index, col] = np.nan\n",
    "\n",
    "# Introduce outliers\n",
    "for col in ['bmi', 'systolic_bp', 'diastolic_bp', 'cholesterol_level']:\n",
    "    num_outliers = int(n * 0.02)  # 2% outliers\n",
    "    indices = np.random.choice(df.index, num_outliers, replace=False)\n",
    "    mean = df[col].mean()\n",
    "    std_dev = df[col].std()\n",
    "    for index in indices:\n",
    "        multiplier = np.random.uniform(3, 5)\n",
    "        outlier = mean + std_dev * multiplier if np.random.rand() > 0.5 else mean - std_dev * multiplier\n",
    "        df.at[index, col] = outlier\n",
    "\n",
    "# Save to CSV files\n",
    "df.iloc[0:2000, :].to_csv(\"data/updated_training_data.csv\", index=False)\n",
    "test_data = df.iloc[2000:, :]\n",
    "test_data.to_csv(\"data/updated_test_data_answers.csv\", index=False)\n",
    "test_data.drop(\"has_disease\", axis=1).to_csv(\"data/updated_test_data.csv\", index=False)"
   ]
  },
  {
   "cell_type": "code",
   "execution_count": 103,
   "metadata": {},
   "outputs": [],
   "source": [
    "# Set seed for reproducibility\n",
    "np.random.seed(42)\n",
    "\n",
    "# Number of samples\n",
    "n = 2250\n",
    "\n",
    "# Define US States\n",
    "us_states = [\"CA\", \"TX\", \"FL\", \"NY\", \"PA\", \"IL\", \"OH\", \"GA\", \"NC\", \"MI\"]\n",
    "\n",
    "# Define exercise frequency and diet quality categories\n",
    "exercise_categories = [\"Never\", \"Rarely\", \"Regularly\", \"Frequently\"]\n",
    "diet_categories = [\"Poor\", \"Average\", \"Good\"]\n",
    "\n",
    "# Initialize DataFrame\n",
    "data = {\n",
    "    'gender': np.random.choice(['Male', 'Female'], n),\n",
    "    'age': np.random.randint(18, 81, n),  # Age between 18 and 80\n",
    "    'bmi': np.random.uniform(18, 35, n),  # BMI between 18 and 35\n",
    "    'systolic_bp': np.random.randint(90, 181, n),  # Systolic BP between 90 and 180\n",
    "    'diastolic_bp': np.random.randint(60, 121, n),  # Diastolic BP between 60 and 120\n",
    "    'exercise_frequency': np.random.choice(exercise_categories, n),\n",
    "    'smoker': np.random.choice([0, 1], n),\n",
    "    'family_history': np.random.choice([0, 1], n),\n",
    "    'diet_quality': np.random.choice(diet_categories, n),\n",
    "    'us_state': np.random.choice(us_states, n),\n",
    "    'shoe_size': np.random.uniform(5, 13, n)\n",
    "}\n",
    "\n",
    "# To simulate cholesterol level as weakly correlated to age:\n",
    "# cholesterol_level = a*age + b + noise\n",
    "# Let's assume a = 1, b = 150 to create cholesterol levels in a realistic range\n",
    "# The noise will be high to keep correlation weak\n",
    "a = 1\n",
    "b = 150\n",
    "noise_std_dev = 50  # Adjusting this value will adjust the strength of the correlation\n",
    "noise = np.random.normal(0, noise_std_dev, n)\n",
    "data['cholesterol_level'] = np.round(a * data['age'] + b + noise)\n",
    "\n",
    "\n",
    "df = pd.DataFrame(data)\n",
    "\n",
    "def safe_raise(value,exp):\n",
    "    val = np.abs(value)**exp\n",
    "    return val * np.sign(value)\n",
    "\n",
    "# Generate target column based on risk factors, with some noise\n",
    "def calc_risk(row):\n",
    "    risk = 0\n",
    "    if row['gender'] == 'Male':\n",
    "        risk += 0.1  # Men have higher risk\n",
    "    risk += 0.02 * safe_raise((row['age'] - 45),1.5) # Risk increases with age\n",
    "    risk += 0.02 * safe_raise((row['bmi'] - 25),2.5)  # Risk increases with higher BMI\n",
    "    risk += 0.01 * safe_raise(((row['systolic_bp'] - 120) + 0.01 * (row['diastolic_bp'] - 80)),.2)  # Risk increases with higher blood pressure\n",
    "    risk += 0.02 * safe_raise((row['cholesterol_level'] - 200),.8)  # Risk increases with higher cholesterol level\n",
    "    risk += row['smoker'] * 0.1  # Smoking increases risk\n",
    "    risk += row['family_history'] * (0.1+ np.random.normal(0,.05))  # Family history increases risk, but this is noisy\n",
    "    if row['exercise_frequency'] == 'Never':\n",
    "        risk += 0.2  # Lack of exercise increases risk\n",
    "    elif row['exercise_frequency'] == 'Rarely':\n",
    "        risk += 0.05 \n",
    "    elif row['exercise_frequency'] == 'Frequently':\n",
    "        risk -= 0.1 \n",
    "    if row['diet_quality'] == 'Poor':\n",
    "        risk += (0.03 + np.random.normal(0,.03))  # Poor diet increases risk, but this is noisy\n",
    "    elif row['diet_quality'] == 'Average':\n",
    "        risk += (0.0 + np.random.normal(0,.03))  # \n",
    "    elif row['diet_quality'] == 'Good':\n",
    "        risk += (-0.03 + np.random.normal(0,.03))  # Good diet decreass risk, but this is noisy\n",
    "\n",
    "    return risk\n",
    "    \n",
    "\n",
    "df['risk'] = df.apply(calc_risk, axis=1)\n",
    "\n",
    "df['risk'] = df.apply(calc_risk, axis=1)\n",
    "\n",
    "# New function to assign disease status probabilistically\n",
    "def assign_disease(risk, noise_level=0.5, base_rate=0.5):\n",
    "    # Normalize risk to be between 0 and 1\n",
    "    normalized_risk = (risk - risk.min()) / (risk.max() - risk.min())\n",
    "    \n",
    "    # Add noise to the normalized risk\n",
    "    noisy_risk = normalized_risk + np.random.normal(0, noise_level, len(risk))\n",
    "    \n",
    "    # Calculate probability of disease\n",
    "    prob_disease = base_rate + (1 - base_rate) * noisy_risk\n",
    "    \n",
    "    # Clip probabilities to be between 0 and 1\n",
    "    prob_disease = np.clip(prob_disease, 0, 1)\n",
    "    \n",
    "    # Assign disease status based on probability\n",
    "    return np.random.binomial(1, prob_disease)\n",
    "\n",
    "# Control parameters\n",
    "noise_level = 0.9  # Adjust this to control noise (higher value = more noise)\n",
    "base_rate = 0.5    # Adjust this to control the base rate of the disease\n",
    "\n",
    "# Assign disease status\n",
    "df['has_disease'] = assign_disease(df['risk'], noise_level, base_rate)\n",
    "\n",
    "# Add noise to continuous variables\n",
    "columns_to_noisify = ['systolic_bp', 'bmi', 'cholesterol_level', 'diastolic_bp']\n",
    "for col in columns_to_noisify:\n",
    "    df[col] = df[col] * np.random.uniform(0.8, 1.2, n)\n",
    "\n",
    "# Introduce missing values\n",
    "missing_fraction = 0.1\n",
    "for col in ['bmi', 'systolic_bp', 'diastolic_bp', 'cholesterol_level', 'smoker', 'family_history', 'diet_quality', 'exercise_frequency']:\n",
    "    df.loc[df.sample(frac=missing_fraction).index, col] = np.nan\n",
    "\n",
    "# Introduce outliers\n",
    "for col in ['bmi', 'systolic_bp', 'diastolic_bp', 'cholesterol_level']:\n",
    "    num_outliers = int(n * np.random.uniform(1, 10) / 1000)\n",
    "    indices = np.random.choice(df.index, num_outliers, replace=False)\n",
    "    mean = df[col].mean()\n",
    "    std_dev = df[col].std()\n",
    "    for index in indices:\n",
    "        multiplier = np.random.uniform(5, 10)\n",
    "        outlier = mean + std_dev * multiplier if np.random.rand() > 0.5 else mean - std_dev * multiplier\n",
    "        df.at[index, col] = outlier\n",
    "\n",
    "df = df.drop(\"risk\",axis=1)\n",
    "\n",
    "# Save to CSV files\n",
    "df.iloc[0:2000, :].to_csv(\"data/updated_training_data.csv\", index=False)\n",
    "test_data = df.iloc[2000:, :]\n",
    "test_data.to_csv(\"data/updated_test_data_answers.csv\", index=False)\n",
    "test_data.drop(\"has_disease\", axis=1).to_csv(\"data/updated_test_data.csv\", index=False)"
   ]
  },
  {
   "cell_type": "markdown",
   "metadata": {},
   "source": [
    "## Sample Answer"
   ]
  },
  {
   "cell_type": "code",
   "execution_count": 2,
   "metadata": {},
   "outputs": [
    {
     "name": "stdout",
     "output_type": "stream",
     "text": [
      "<class 'pandas.core.frame.DataFrame'>\n",
      "RangeIndex: 2000 entries, 0 to 1999\n",
      "Data columns (total 14 columns):\n",
      " #   Column              Non-Null Count  Dtype  \n",
      "---  ------              --------------  -----  \n",
      " 0   gender              2000 non-null   object \n",
      " 1   age                 2000 non-null   int64  \n",
      " 2   bmi                 1805 non-null   float64\n",
      " 3   systolic_bp         1803 non-null   float64\n",
      " 4   diastolic_bp        1804 non-null   float64\n",
      " 5   exercise_frequency  1805 non-null   object \n",
      " 6   smoker              1800 non-null   float64\n",
      " 7   family_history      1797 non-null   float64\n",
      " 8   diet_quality        1797 non-null   object \n",
      " 9   us_state            2000 non-null   object \n",
      " 10  shoe_size           2000 non-null   float64\n",
      " 11  cholesterol_level   1798 non-null   float64\n",
      " 12  risk                2000 non-null   float64\n",
      " 13  has_disease         2000 non-null   int64  \n",
      "dtypes: float64(8), int64(2), object(4)\n",
      "memory usage: 218.9+ KB\n"
     ]
    }
   ],
   "source": [
    "import pandas as pd\n",
    "\n",
    "data = pd.read_csv(\"./data/training_data.csv\")\n",
    "data.info()"
   ]
  },
  {
   "cell_type": "code",
   "execution_count": 3,
   "metadata": {},
   "outputs": [
    {
     "data": {
      "text/plain": [
       "<Axes: ylabel='Frequency'>"
      ]
     },
     "execution_count": 3,
     "metadata": {},
     "output_type": "execute_result"
    },
    {
     "data": {
      "image/png": "[encoded data removed]",
      "text/plain": [
       "<Figure size 640x480 with 1 Axes>"
      ]
     },
     "metadata": {},
     "output_type": "display_data"
    }
   ],
   "source": [
    "data['has_disease'].plot.hist()"
   ]
  },
  {
   "cell_type": "markdown",
   "metadata": {},
   "source": [
    "Slightly imbalanced - if we wanted to do something about this we might try oversampling.\n",
    "\n",
    "Now checking for outliers..."
   ]
  },
  {
   "cell_type": "code",
   "execution_count": 7,
   "metadata": {},
   "outputs": [
    {
     "data": {
      "text/plain": [
       "array([<Axes: ylabel='Frequency'>, <Axes: ylabel='Frequency'>,\n",
       "       <Axes: ylabel='Frequency'>, <Axes: ylabel='Frequency'>,\n",
       "       <Axes: ylabel='Frequency'>, <Axes: ylabel='Frequency'>,\n",
       "       <Axes: ylabel='Frequency'>, <Axes: ylabel='Frequency'>,\n",
       "       <Axes: ylabel='Frequency'>], dtype=object)"
      ]
     },
     "execution_count": 7,
     "metadata": {},
     "output_type": "execute_result"
    },
    {
     "data": {
      "image/png": "[encoded data removed]",
      "text/plain": [
       "<Figure size 500x1000 with 9 Axes>"
      ]
     },
     "metadata": {},
     "output_type": "display_data"
    }
   ],
   "source": [
    "import numpy as np\n",
    "data_features = data.drop(\"has_disease\",axis=1)\n",
    "numeric = [col for col in data_features.columns if data_features[col].dtype in [\"float64\",\"int64\"]]\n",
    "data_features[numeric].apply(lambda x: (x-np.mean(x))/np.std(x)).plot.hist(subplots=True, figsize=(5,10))\n"
   ]
  },
  {
   "cell_type": "markdown",
   "metadata": {},
   "source": [
    "Everything looks ok.  Not going to worry about it."
   ]
  },
  {
   "cell_type": "code",
   "execution_count": 10,
   "metadata": {},
   "outputs": [
    {
     "data": {
      "text/plain": [
       "{'fit_time': array([0.02831101, 0.02423   , 0.02378798, 0.02486706, 0.02135706]),\n",
       " 'score_time': array([0.01452017, 0.0138061 , 0.01349688, 0.01402068, 0.01219797]),\n",
       " 'test_f1': array([0.82634731, 0.83783784, 0.826546  , 0.84444444, 0.8313253 ]),\n",
       " 'test_precision': array([0.72631579, 0.73809524, 0.73066667, 0.73643411, 0.73404255]),\n",
       " 'test_recall': array([0.95833333, 0.96875   , 0.95138889, 0.98958333, 0.95833333])}"
      ]
     },
     "execution_count": 10,
     "metadata": {},
     "output_type": "execute_result"
    }
   ],
   "source": [
    "from sklearn.preprocessing import OrdinalEncoder, OneHotEncoder, StandardScaler\n",
    "\n",
    "from sklearn.compose import ColumnTransformer\n",
    "from sklearn.pipeline import make_pipeline\n",
    "from sklearn.impute import SimpleImputer\n",
    "\n",
    "\n",
    "data_features = data.drop(\"has_disease\",axis=1)\n",
    "data_target = data[\"has_disease\"]\n",
    "\n",
    "categorical = [col for col in data_features.columns if data_features[col].dtype == \"object\"]\n",
    "for c in categorical:\n",
    "    elts = [str(e) for e in data_features[c].unique()]\n",
    "   \n",
    "\n",
    "numeric = [col for col in data_features.columns if data_features[col].dtype in [\"float64\",\"int64\"]]\n",
    "\n",
    "\n",
    "binary_cols = ['smoker','family_history']\n",
    "non_binary_cols = [x for x in numeric if x not in binary_cols]\n",
    "oe_cols = [\"gender\",\"exercise_frequency\",\"diet_quality\"]\n",
    "oe = OrdinalEncoder(categories=[[\"Female\",\"Male\"],[\"Never\",\"Rarely\",\"Regularly\",\"Frequently\"],[\"Poor\",\"Average\",\"Good\"]])\n",
    "\n",
    "oh_cols = [\"us_state\"]\n",
    "\n",
    "# Using most frequent here, even though I'd prefer something smarter\n",
    "oe_pipeline = make_pipeline(SimpleImputer(strategy=\"most_frequent\"),oe)\n",
    "\n",
    "# just states\n",
    "oh_pipeline = make_pipeline(OneHotEncoder(handle_unknown=\"ignore\",drop=\"first\"))\n",
    "\n",
    "# use most frequent here\n",
    "binary_pipeline = make_pipeline(SimpleImputer(strategy=\"most_frequent\"))\n",
    "\n",
    "# Just median for all the rest, and scale\n",
    "num_pipeline = make_pipeline(SimpleImputer(strategy=\"median\"),StandardScaler())\n",
    "\n",
    "preprocessing = ColumnTransformer([\n",
    "    (\"OH_OE\",oh_pipeline,oe_cols),\n",
    "    (\"OH_OH\",oh_pipeline,oh_cols),\n",
    "    (\"BIN\",binary_pipeline,binary_cols),\n",
    "    (\"NUM\",num_pipeline,non_binary_cols)])\n",
    "\n",
    "preprocessing.fit_transform(data)\n",
    "preprocessing.get_feature_names_out()\n",
    "\n",
    "# Not rebalancing classes here\n",
    "from sklearn.model_selection import cross_validate\n",
    "from sklearn.linear_model import LogisticRegression\n",
    "pipeline = make_pipeline(preprocessing,LogisticRegression())\n",
    "\n",
    "cross_validate(pipeline,data_features,data_target,scoring=['f1','precision','recall'])\n"
   ]
  }
 ],
 "metadata": {
  "kernelspec": {
   "display_name": ".venv",
   "language": "python",
   "name": "python3"
  },
  "language_info": {
   "codemirror_mode": {
    "name": "ipython",
    "version": 3
   },
   "file_extension": ".py",
   "mimetype": "text/x-python",
   "name": "python",
   "nbconvert_exporter": "python",
   "pygments_lexer": "ipython3",
   "version": "3.12.4"
  }
 },
 "nbformat": 4,
 "nbformat_minor": 2
}
